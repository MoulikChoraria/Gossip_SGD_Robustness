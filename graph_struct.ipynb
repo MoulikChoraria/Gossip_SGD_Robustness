{
 "cells": [
  {
   "cell_type": "code",
   "execution_count": 10,
   "metadata": {},
   "outputs": [
    {
     "name": "stdout",
     "output_type": "stream",
     "text": [
      "The autoreload extension is already loaded. To reload it, use:\n",
      "  %reload_ext autoreload\n"
     ]
    }
   ],
   "source": [
    "import autoreload\n",
    "\n",
    "%load_ext autoreload\n",
    "%autoreload 2\n",
    "\n",
    "import torch\n",
    "import torchvision\n",
    "import torchvision.transforms as transforms\n",
    "import torch.nn as nn\n",
    "import torch.nn.functional as F\n",
    "import matplotlib\n",
    "import matplotlib.pyplot as plt\n",
    "import numpy as np\n",
    "import torch.optim as optim\n",
    "import time\n",
    "import os\n",
    "from collections import OrderedDict\n",
    "from torch.utils.data import Subset"
   ]
  },
  {
   "cell_type": "code",
   "execution_count": 19,
   "metadata": {},
   "outputs": [],
   "source": [
    "device = torch.device(\"cuda:0\" if torch.cuda.is_available() else \"cpu\")"
   ]
  },
  {
   "cell_type": "code",
   "execution_count": 55,
   "metadata": {},
   "outputs": [],
   "source": [
    "transform = transforms.Compose([transforms.ToTensor(),transforms.Normalize((0.5,), (0.5,))])\n",
    "\n",
    "trainset = torchvision.datasets.MNIST(root='./data', train=True,download=True, transform=transform)\n",
    "\n",
    "trainloader = torch.utils.data.DataLoader(trainset, batch_size=4, shuffle=True, num_workers=2)\n",
    "\n",
    "testset = torchvision.datasets.MNIST(root='./data', train=False, download=True, transform=transform)\n",
    "\n",
    "testloader = torch.utils.data.DataLoader(testset, batch_size=4,shuffle=False, num_workers=2)\n",
    "\n",
    "classes = ('0', '1', '2', '3', '4', '5', '6', '7', '8', '9')"
   ]
  },
  {
   "cell_type": "code",
   "execution_count": 12,
   "metadata": {},
   "outputs": [],
   "source": [
    "def trainset_node_split(dataset, N, seed = 0):\n",
    "    np.random.seed(seed)\n",
    "    a = np.arange(len(dataset))\n",
    "    np.random.shuffle(a)\n",
    "    datasets = {}\n",
    "    size = int(len(dataset)/N)\n",
    "    for i in range(N):\n",
    "        datasets[i] = Subset(dataset, a[i*size:(i+1)*size].tolist())\n",
    "    return datasets"
   ]
  },
  {
   "cell_type": "code",
   "execution_count": 8,
   "metadata": {},
   "outputs": [],
   "source": []
  },
  {
   "cell_type": "code",
   "execution_count": 31,
   "metadata": {},
   "outputs": [],
   "source": [
    "class Net(nn.Module):\n",
    "    def __init__(self):\n",
    "        super(Net, self).__init__()\n",
    "        self.conv1 = nn.Conv2d(1, 6, 5)\n",
    "        #self.bn1 = nn.BatchNorm2d(6)\n",
    "        self.pool = nn.MaxPool2d(2, 2)\n",
    "        self.conv2 = nn.Conv2d(6, 16, 5)\n",
    "        #self.bn2 = nn.BatchNorm2d(16)\n",
    "        self.fc1 = nn.Linear(16 * 4 * 4, 64)\n",
    "        #self.fc2 = nn.Linear(120, 84)\n",
    "        self.fc2 = nn.Linear(64, 10)\n",
    "        self.init_weights()\n",
    "\n",
    "    def forward(self, x):\n",
    "        x = self.pool(F.relu(self.conv1(x)))\n",
    "        x = self.pool(F.relu(self.conv2(x)))\n",
    "        x = x.view(-1, 16 * 4 * 4)\n",
    "        x = F.relu(self.fc1(x))\n",
    "        #x = F.relu(self.fc2(x))\n",
    "        x = self.fc2(x)\n",
    "        return x\n",
    "\n",
    "    def init_weights(self):\n",
    "        \n",
    "        for m in self.modules():\n",
    "\n",
    "            if isinstance(m, nn.Conv2d):\n",
    "                nn.init.kaiming_normal_(m.weight, a=0, mode='fan_out',nonlinearity='relu')\n",
    "\n",
    "            elif isinstance(m, nn.BatchNorm2d):\n",
    "                m.weight.data.fill_(1)\n",
    "                m.bias.data.zero_()\n",
    "\n",
    "            elif isinstance(m, nn.Linear):\n",
    "                m.bias.data.zero_()\n",
    "                torch.nn.init.xavier_uniform_(m.weight)"
   ]
  },
  {
   "cell_type": "code",
   "execution_count": 32,
   "metadata": {},
   "outputs": [],
   "source": [
    "class Node():\n",
    "    \"\"\"Node(Choco_Gossip): x_i(t+1) = x_i(t) + gamma*Sum(w_ij*[xhat_j(t+1) - xhat_i(t+1)])\"\"\"\n",
    "    \n",
    "    def __init__(self, gamma, loader, model, criterion):\n",
    "        \n",
    "        self.neighbors = []\n",
    "        self.neighbor_wts = {}\n",
    "        \n",
    "        self.step_size = gamma\n",
    "                \n",
    "        self.dataloader = loader\n",
    "        \n",
    "        self.model = model\n",
    "        \n",
    "        self.x_i = OrderedDict()\n",
    "        \n",
    "        self.model_params = []\n",
    "        for (k,v) in self.model.state_dict().items():\n",
    "            \n",
    "            self.model_params.append(k)\n",
    "            self.x_i[k] = v.clone().detach()\n",
    "            \n",
    "        #for a in self.model.parameters():\n",
    "        #    self.x_i.append(a)\n",
    "        \n",
    "        self.criterion = criterion\n",
    "        \n",
    "        self.dataiter = iter(self.dataloader)\n",
    "        \n",
    "    \n",
    "    def compute_gradient(self, quantizer=None, ):\n",
    "        \"\"\"Computes nabla(x_i, samples) and returns estimate after quantization\"\"\"\n",
    "        \n",
    "        # Sample batch from loader #\n",
    "        optimizer  = optim.SGD(self.model.parameters(), lr=1e-3)\n",
    "        #for v in self.model.parameters():\n",
    "        #  if v.grad is not None:\n",
    "        #    v.detach_()\n",
    "        #    v.zero_()\n",
    "\n",
    "        optimizer.zero_grad()    \n",
    "\n",
    "        try:\n",
    "            inputs, targets = self.dataiter.next()\n",
    "        except StopIteration:\n",
    "            self.dataiter = iter(self.dataloader)\n",
    "            inputs, targets = self.dataiter.next()\n",
    "\n",
    "        \n",
    "        outputs = self.model(inputs)\n",
    "\n",
    "\n",
    "        loss = self.criterion(outputs, targets)\n",
    "        \n",
    "        #Equivalent to optimizer.zero_grad()\n",
    "        \n",
    "        \n",
    "        loss.backward()\n",
    "        \n",
    "        gt = OrderedDict()\n",
    "        \n",
    "        \n",
    "        for k,v in enumerate(self.model.parameters()):\n",
    "            if v.grad is not None:\n",
    "                if quantizer is not None:\n",
    "                    gt[k] = quantizer(v.grad.clone().detach_())\n",
    "                else:\n",
    "                    gt[k] = v.grad.clone().detach()\n",
    "        #optimizer.step()\n",
    "    \n",
    "        self.curr_gt = gt\n",
    "        \n",
    "        return\n",
    "    \n",
    "    def assign_params(self, W):\n",
    "        \"\"\"Assign dict W to model\"\"\"\n",
    "        \n",
    "        with torch.no_grad():\n",
    "            self.model.load_state_dict(W, strict=False)\n",
    "        \n",
    "        return\n",
    "    \n",
    "    def update_model(self):\n",
    "        \n",
    "        ### Implement Algorithm ###\n",
    "        \n",
    "        ## Assign Parameters after obtaining Consensus##\n",
    "        \n",
    "        \n",
    "        self.assign_params(self.x_i)\n",
    "        \n",
    "        return"
   ]
  },
  {
   "cell_type": "code",
   "execution_count": 33,
   "metadata": {},
   "outputs": [],
   "source": [
    "class Network():\n",
    "    \"\"\"Define graph\"\"\"\n",
    "    \n",
    "    def __init__(self, W, models, learning_rates, loaders, criterion):\n",
    "        \n",
    "        self.adjacency = W\n",
    "        self.num_nodes = W.shape[0]\n",
    "        \n",
    "        self.nodes = OrderedDict()\n",
    "        \n",
    "        for i in range(self.num_nodes):\n",
    "            self.nodes[i] = Node(learning_rates[i], loaders[i],models[i], criterion)\n",
    "            for j in range(self.num_nodes):\n",
    "                if(j != i and W[i, j] > 0):\n",
    "                    self.nodes[i].neighbors.append(j)\n",
    "                    self.nodes[i].neighbor_wts[j] = W[i, j]\n",
    "                    \n",
    "            \n",
    "    def simulate(self, iterations, epochs):\n",
    "        \n",
    "        for i in range(epochs):\n",
    "            for j in range(iterations):\n",
    "                lr = 1e-3\n",
    "                if(j % 500 == 0):\n",
    "                    print(j)\n",
    "                    \n",
    "                for k in range(self.num_nodes):\n",
    "                    self.nodes[k].compute_gradient()\n",
    "                \n",
    "                \n",
    "                for l in range(self.num_nodes):\n",
    "                    for m,param in enumerate(self.nodes[l].model.parameters()):\n",
    "                        if param.grad is None:\n",
    "                            continue\n",
    "                      \n",
    "                        gt_update = self.nodes[l].curr_gt[m]\n",
    "                        wt_sum = 1\n",
    "                        for n in self.nodes[l].neighbors:\n",
    "                            gt_update= gt_update + self.nodes[l].neighbor_wts[n] *self.nodes[n].curr_gt[m]\n",
    "                            wt_sum = wt_sum + self.nodes[l].neighbor_wts[n]\n",
    "                        gt_update = gt_update/wt_sum\n",
    "                        param.data = param.data - lr*gt_update\n",
    "                    #self.nodes[str(l)].update_model()"
   ]
  },
  {
   "cell_type": "code",
   "execution_count": 34,
   "metadata": {},
   "outputs": [],
   "source": [
    "models = [Net() for i in range(3)]\n",
    "criterion = nn.CrossEntropyLoss()\n",
    "\n",
    "m = trainset_node_split(trainset, 3)\n",
    "\n",
    "trainloaders = [torch.utils.data.DataLoader(m[i], batch_size=4, shuffle=True, num_workers=2) for i in range(3)]\n",
    "\n",
    "\n",
    "net = Network(torch.ones([3,3]),models, [1e-3,1e-3,1e-3],trainloaders, nn.CrossEntropyLoss())"
   ]
  },
  {
   "cell_type": "code",
   "execution_count": 35,
   "metadata": {},
   "outputs": [
    {
     "name": "stdout",
     "output_type": "stream",
     "text": [
      "0\n",
      "500\n",
      "1000\n",
      "1500\n",
      "2000\n",
      "2500\n",
      "3000\n",
      "3500\n",
      "4000\n",
      "4500\n"
     ]
    }
   ],
   "source": [
    "net.simulate(4990,1)"
   ]
  },
  {
   "cell_type": "code",
   "execution_count": 39,
   "metadata": {},
   "outputs": [],
   "source": [
    "def count_correct(outputs, labels):\n",
    "    \"\"\" count correct predictions \"\"\"\n",
    "\n",
    "    if isinstance(criterion, nn.BCELoss):\n",
    "        predicted = (outputs > 0.5).to(dtype=torch.int64)\n",
    "        labels = (labels  > 0.5).to(dtype=torch.int64)\n",
    "    elif isinstance(criterion, nn.CrossEntropyLoss):\n",
    "        _, predicted = outputs.max(1)\n",
    "    else:\n",
    "        print('Error in criterion')\n",
    "        raise ValueError\n",
    "\n",
    "    correct = (predicted == labels).sum().item()\n",
    "\n",
    "    return correct"
   ]
  },
  {
   "cell_type": "code",
   "execution_count": 56,
   "metadata": {},
   "outputs": [],
   "source": [
    "def forward_test(model, loader):\n",
    "    \"\"\" forwards test samples and calculates the test accuracy \"\"\"\n",
    "\n",
    "    model.to(device)\n",
    "    running_losses = 0.0\n",
    "    correct = 0\n",
    "    total = 0\n",
    "    count_batches = 0\n",
    "\n",
    "    with torch.no_grad():\n",
    "\n",
    "        for batch_idx, sample in enumerate(loader):\n",
    "\n",
    "            inputs, labels = sample[0].to(device), sample[1].to(device)\n",
    "            #inputs, labels = sample[0], sample[1]\n",
    "            outputs = model(inputs)\n",
    "            \n",
    "            loss = criterion(outputs,labels)\n",
    "            \n",
    "            count_batches += 1\n",
    "\n",
    "            running_losses += loss.item()\n",
    "\n",
    "            correct += count_correct(outputs, labels)\n",
    "            total += labels.size(0)\n",
    "\n",
    "\n",
    "    test_acc  = 100.0 * correct / total\n",
    "    test_loss = running_losses / total\n",
    "\n",
    "    print('\\n=> Test acc  : {:7.3f}%'.format(test_acc))\n",
    "\n",
    "    return test_acc, test_loss"
   ]
  },
  {
   "cell_type": "code",
   "execution_count": 57,
   "metadata": {},
   "outputs": [
    {
     "name": "stdout",
     "output_type": "stream",
     "text": [
      "\n",
      "=> Test acc  :  76.375%\n"
     ]
    },
    {
     "data": {
      "text/plain": [
       "(76.375, 0.20658922369927168)"
      ]
     },
     "execution_count": 57,
     "metadata": {},
     "output_type": "execute_result"
    }
   ],
   "source": [
    "forward_test(models[0])"
   ]
  },
  {
   "cell_type": "code",
   "execution_count": 53,
   "metadata": {},
   "outputs": [
    {
     "name": "stdout",
     "output_type": "stream",
     "text": [
      "\n",
      "=> Test acc  :  75.870%\n"
     ]
    },
    {
     "data": {
      "text/plain": [
       "(75.87, 0.21291866512298585)"
      ]
     },
     "execution_count": 53,
     "metadata": {},
     "output_type": "execute_result"
    }
   ],
   "source": [
    "forward_test(models[1])"
   ]
  },
  {
   "cell_type": "code",
   "execution_count": 54,
   "metadata": {},
   "outputs": [
    {
     "name": "stdout",
     "output_type": "stream",
     "text": [
      "\n",
      "=> Test acc  :  78.000%\n"
     ]
    },
    {
     "data": {
      "text/plain": [
       "(78.0, 0.19203385961055755)"
      ]
     },
     "execution_count": 54,
     "metadata": {},
     "output_type": "execute_result"
    }
   ],
   "source": [
    "forward_test(models[2])"
   ]
  },
  {
   "cell_type": "code",
   "execution_count": null,
   "metadata": {},
   "outputs": [],
   "source": []
  }
 ],
 "metadata": {
  "kernelspec": {
   "display_name": "torch_env",
   "language": "python",
   "name": "torch_env"
  },
  "language_info": {
   "codemirror_mode": {
    "name": "ipython",
    "version": 3
   },
   "file_extension": ".py",
   "mimetype": "text/x-python",
   "name": "python",
   "nbconvert_exporter": "python",
   "pygments_lexer": "ipython3",
   "version": "3.7.6"
  }
 },
 "nbformat": 4,
 "nbformat_minor": 4
}
