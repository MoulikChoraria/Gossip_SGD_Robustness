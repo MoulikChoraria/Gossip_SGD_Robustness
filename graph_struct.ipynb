{
 "cells": [
  {
   "cell_type": "code",
   "execution_count": 4,
   "metadata": {},
   "outputs": [
    {
     "name": "stdout",
     "output_type": "stream",
     "text": [
      "The autoreload extension is already loaded. To reload it, use:\n",
      "  %reload_ext autoreload\n"
     ]
    }
   ],
   "source": [
    "import autoreload\n",
    "\n",
    "%load_ext autoreload\n",
    "%autoreload 2\n",
    "\n",
    "import torch\n",
    "import torchvision\n",
    "import torchvision.transforms as transforms\n",
    "import torch.nn as nn\n",
    "import torch.nn.functional as F\n",
    "import matplotlib\n",
    "import matplotlib.pyplot as plt\n",
    "import numpy as np\n",
    "import torch.optim as optim\n",
    "import time\n",
    "import os\n",
    "from collections import OrderedDict\n",
    "from torch.utils.data import Subset"
   ]
  },
  {
   "cell_type": "code",
   "execution_count": 3,
   "metadata": {},
   "outputs": [
    {
     "name": "stdout",
     "output_type": "stream",
     "text": [
      "Downloading http://yann.lecun.com/exdb/mnist/train-images-idx3-ubyte.gz to ./data\\MNIST\\raw\\train-images-idx3-ubyte.gz\n"
     ]
    },
    {
     "name": "stderr",
     "output_type": "stream",
     "text": [
      "100.1%"
     ]
    },
    {
     "name": "stdout",
     "output_type": "stream",
     "text": [
      "Extracting ./data\\MNIST\\raw\\train-images-idx3-ubyte.gz to ./data\\MNIST\\raw\n",
      "Downloading http://yann.lecun.com/exdb/mnist/train-labels-idx1-ubyte.gz to ./data\\MNIST\\raw\\train-labels-idx1-ubyte.gz\n"
     ]
    },
    {
     "name": "stderr",
     "output_type": "stream",
     "text": [
      "113.5%"
     ]
    },
    {
     "name": "stdout",
     "output_type": "stream",
     "text": [
      "Extracting ./data\\MNIST\\raw\\train-labels-idx1-ubyte.gz to ./data\\MNIST\\raw\n",
      "Downloading http://yann.lecun.com/exdb/mnist/t10k-images-idx3-ubyte.gz to ./data\\MNIST\\raw\\t10k-images-idx3-ubyte.gz\n"
     ]
    },
    {
     "name": "stderr",
     "output_type": "stream",
     "text": [
      "100.4%"
     ]
    },
    {
     "name": "stdout",
     "output_type": "stream",
     "text": [
      "Extracting ./data\\MNIST\\raw\\t10k-images-idx3-ubyte.gz to ./data\\MNIST\\raw\n",
      "Downloading http://yann.lecun.com/exdb/mnist/t10k-labels-idx1-ubyte.gz to ./data\\MNIST\\raw\\t10k-labels-idx1-ubyte.gz\n"
     ]
    },
    {
     "name": "stderr",
     "output_type": "stream",
     "text": [
      "180.4%"
     ]
    },
    {
     "name": "stdout",
     "output_type": "stream",
     "text": [
      "Extracting ./data\\MNIST\\raw\\t10k-labels-idx1-ubyte.gz to ./data\\MNIST\\raw\n",
      "Processing...\n",
      "Done!\n"
     ]
    }
   ],
   "source": [
    "transform = transforms.Compose([transforms.ToTensor(),transforms.Normalize((0.5,), (0.5,))])\n",
    "\n",
    "trainset = torchvision.datasets.MNIST(root='./data', train=True,download=True, transform=transform)\n",
    "#trainloader = torch.utils.data.DataLoader(trainset, batch_size=16,\n",
    "#                                          shuffle=True, num_workers=2)\n",
    "\n",
    "testset = torchvision.datasets.MNIST(root='./data', train=False, download=True, transform=transform)\n",
    "\n",
    "#testloader = torch.utils.data.DataLoader(testset, batch_size=16,\n",
    "#                                         shuffle=False, num_workers=2)\n",
    "\n",
    "classes = ('0', '1', '2', '3', '4', '5', '6', '7', '8', '9')"
   ]
  },
  {
   "cell_type": "code",
   "execution_count": 7,
   "metadata": {},
   "outputs": [],
   "source": [
    "def trainset_node_split(dataset, N, seed = 0):\n",
    "    np.random.seed(seed)\n",
    "    a = np.arange(len(dataset))\n",
    "    np.random.shuffle(a)\n",
    "    datasets = {}\n",
    "    size = int(len(dataset)/N)\n",
    "    for i in range(N):\n",
    "        datasets[i] = Subset(dataset, a[i*size:(i+1)*size].tolist())\n",
    "    return datasets"
   ]
  },
  {
   "cell_type": "code",
   "execution_count": 8,
   "metadata": {},
   "outputs": [],
   "source": [
    "m = trainset_node_split(trainset, 2)"
   ]
  },
  {
   "cell_type": "code",
   "execution_count": null,
   "metadata": {},
   "outputs": [],
   "source": []
  },
  {
   "cell_type": "code",
   "execution_count": 10,
   "metadata": {},
   "outputs": [],
   "source": [
    "class Node():\n",
    "    \"\"\"Node(Choco_Gossip): x_i(t+1) = x_i(t) + gamma*Sum(w_ij*[xhat_j(t+1) - xhat_i(t+1)])\"\"\"\n",
    "    \n",
    "    def __init__(self, gamma, loader, model, criterion):\n",
    "        \n",
    "        self.neighbors = []\n",
    "        self.neighbor_wts = {}\n",
    "        \n",
    "        self.step_size = gamma\n",
    "                \n",
    "        self.dataloader = loader\n",
    "        \n",
    "        self.model = \n",
    "        \n",
    "        self.x_i = OrderedDict()\n",
    "        \n",
    "        self.model_params = []\n",
    "        \n",
    "        for (k,v) in self.model.net.state_dict().items():\n",
    "            \n",
    "            self.model_params.append(k)\n",
    "            self.x_i[k] = v.clone().detach()\n",
    "            \n",
    "        #for a in self.model.parameters():\n",
    "        #    self.x_i.append(a)\n",
    "        \n",
    "        self.criterion = params[\"criterion\"]\n",
    "        \n",
    "        self.dataiter = iter(dataloader)\n",
    "        \n",
    "    \n",
    "    def compute_gradient(self, quantizer, optimizer):\n",
    "        \"\"\"Computes nabla(x_i, samples) and returns estimate after quantization\"\"\"\n",
    "        \n",
    "        # Sample batch from loader #\n",
    "        \n",
    "        inputs, targets = self.dataiter.next()\n",
    "        \n",
    "        outputs = self.model(inputs)\n",
    "                \n",
    "        loss = self.criterion(outputs, targets)\n",
    "        \n",
    "        #optimizer.zero_grad()\n",
    "        \n",
    "        loss.backward()\n",
    "        \n",
    "        gt = OrderedDict()\n",
    "        \n",
    "        for (k,v) in self.model.net.state_dict().items():\n",
    "            \n",
    "            gt[k] = quantizer(v.grad.clone().detach())\n",
    "            \n",
    "        #optimizer.step()\n",
    "    \n",
    "        self.curr_gt = gt\n",
    "        \n",
    "        return\n",
    "    \n",
    "    def assign_params(self, W):\n",
    "        \"\"\"Assign dict W to model\"\"\"\n",
    "        \n",
    "        with torch.no_grad():\n",
    "            self.model.load_state_dict(W, strict=False)\n",
    "        \n",
    "        return\n",
    "    \n",
    "    def update_model(self, W):\n",
    "        \n",
    "        ### Implement Algorithm ###\n",
    "        \n",
    "        ## Assign Parameters after obtaining Consensus##\n",
    "        \n",
    "        assign_params(W)\n",
    "        \n",
    "        return        "
   ]
  },
  {
   "cell_type": "code",
   "execution_count": null,
   "metadata": {},
   "outputs": [],
   "source": [
    "class Network():\n",
    "    \"\"\"Define graph\"\"\"\n",
    "    \n",
    "    def __init__(self, W, models, learning_rates, loaders, criterion):\n",
    "        \n",
    "        self.adjacency = W\n",
    "        self.num_nodes = W.shape[0]\n",
    "        \n",
    "        self.nodes = OrderedDict()\n",
    "        \n",
    "        for i in range(num_nodes):\n",
    "            nodes[str(i)] = Node(learning_rates[i], loaders[i],models[i], criterion)\n",
    "            for j in range(num_nodes):\n",
    "                if(j != i and W[i, j] > 0):\n",
    "                    nodes[str(i)].neighbors.append(j)\n",
    "                    nodes[str(i)].neighbor_wts[str(j)] = W[i, j]\n",
    "                    \n",
    "            \n",
    "    def simulate(self, iterations, epochs):\n",
    "        \n",
    "        for i in range(epochs):\n",
    "            for j in range(iterations):\n",
    "                for k in range(num_nodes):\n",
    "                    nodes[str(k)].compute_gradient()\n",
    "                    \n",
    "                for k in range(num_nodes):\n",
    "                    nodes[str(k)].update_model()       "
   ]
  }
 ],
 "metadata": {
  "kernelspec": {
   "display_name": "torch_env",
   "language": "python",
   "name": "torch_env"
  },
  "language_info": {
   "codemirror_mode": {
    "name": "ipython",
    "version": 3
   },
   "file_extension": ".py",
   "mimetype": "text/x-python",
   "name": "python",
   "nbconvert_exporter": "python",
   "pygments_lexer": "ipython3",
   "version": "3.7.6"
  }
 },
 "nbformat": 4,
 "nbformat_minor": 4
}
